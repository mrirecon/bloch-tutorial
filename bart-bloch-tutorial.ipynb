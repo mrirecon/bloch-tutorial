{
  "cells": [
    {
      "cell_type": "markdown",
      "metadata": {
        "id": "DDooP3kQ2N6w"
      },
      "source": [
        "# Tutorial: Bloch Model-Based Reconstruction in BART\n",
        "\n",
        "\n",
        "    Author:        Nick Scholand\n",
        "    Email:         scholand@tugraz.at\n",
        "    Institution:   Graz University of Technology, Graz, Austria\n",
        "\n",
        "**About the Tutorial**\n",
        "\n",
        "This tutorial introduces the Bloch model-based reconstruction tool added with the `--bloch` flag to the `moba` tool in the [official BART repository](https://github.com/mrirecon/bart).\n",
        "The `--bloch` option in `moba` can run on the CPU only, but it is highly recommended to have a GPU. Thus, this example is optimized for the Google Colab service providing the hardware infrastructure including a GPU."
      ]
    },
    {
      "cell_type": "markdown",
      "metadata": {
        "id": "lZdzii_U2N60"
      },
      "source": [
        "### 0. Setup BART on Google Colab\n",
        "\n",
        "The following section sets up BART on Google Colab. For a detailed explanation, see [**How to Run BART on Google Colaboratory**](https://github.com/mrirecon/bart-workshop/tree/master/ismrm2021).\n",
        "\n",
        "Please skip this part and click [here](#main) if you want to run this notebook on your local machine with BART already installed.\n",
        "\n",
        "If you want to use a GPU instance, please turn it on in Google Colab:\n",
        "\n",
        "    Go to Edit → Notebook Settings\n",
        "    Choose GPU from Hardware Accelerator drop-down menu\n"
      ]
    },
    {
      "cell_type": "markdown",
      "source": [
        "We check which GPU instance was assigned to this notebook."
      ],
      "metadata": {
        "id": "2hjTBx3ZJcwE"
      }
    },
    {
      "cell_type": "code",
      "execution_count": 1,
      "metadata": {
        "colab": {
          "base_uri": "https://localhost:8080/"
        },
        "id": "5_gw1eAr2N62",
        "outputId": "e2b3273e-f5c3-4633-9c65-0202cf584dc2"
      },
      "outputs": [
        {
          "output_type": "stream",
          "name": "stdout",
          "text": [
            "GPU Type:\n",
            "Tesla T4\n",
            "Current GPU supports default CUDA-11.\n",
            "No further actions are required.\n",
            "GPU Information:\n",
            "name, driver_version, memory.total [MiB]\n",
            "Tesla T4, 460.32.03, 15109 MiB\n",
            "nvcc: NVIDIA (R) Cuda compiler driver\n",
            "Copyright (c) 2005-2020 NVIDIA Corporation\n",
            "Built on Mon_Oct_12_20:09:46_PDT_2020\n",
            "Cuda compilation tools, release 11.1, V11.1.105\n",
            "Build cuda_11.1.TC455_06.29190527_0\n"
          ]
        }
      ],
      "source": [
        "%%bash\n",
        "\n",
        "# Use CUDA 10.1 when on Tesla K80\n",
        "\n",
        "# Estimate GPU Type\n",
        "GPU_NAME=$(nvidia-smi --query-gpu=gpu_name --format=csv,noheader)\n",
        "\n",
        "echo \"GPU Type:\"\n",
        "echo $GPU_NAME\n",
        "\n",
        "if [ \"Tesla K80\" = \"$GPU_NAME\" ];\n",
        "then\n",
        "    echo \"GPU type Tesla K80 does not support CUDA 11. Set CUDA to version 10.1.\"\n",
        "\n",
        "    # Change default CUDA to version 10.1\n",
        "    cd /usr/local\n",
        "    rm cuda\n",
        "    ln -s cuda-10.1 cuda\n",
        "else\n",
        "    echo \"Current GPU supports default CUDA-11.\"\n",
        "    echo \"No further actions are required.\"\n",
        "fi\n",
        "\n",
        "echo \"GPU Information:\"\n",
        "nvidia-smi --query-gpu=gpu_name,driver_version,memory.total --format=csv\n",
        "nvcc --version"
      ]
    },
    {
      "cell_type": "markdown",
      "source": [
        "We download the current master branch version of BART and install its dependencies."
      ],
      "metadata": {
        "id": "RrQOgLBbJndV"
      }
    },
    {
      "cell_type": "code",
      "execution_count": 2,
      "metadata": {
        "id": "WuC1x6fs2N64"
      },
      "outputs": [],
      "source": [
        "%%bash\n",
        "\n",
        "# Install BARTs dependencies\n",
        "apt-get install -y make gcc libfftw3-dev liblapacke-dev libpng-dev libopenblas-dev bc &> /dev/null\n",
        "\n",
        "# Clone Bart\n",
        "[ -d /content/bart ] && rm -r /content/bart\n",
        "git clone https://github.com/mrirecon/bart/ bart &> /dev/null"
      ]
    },
    {
      "cell_type": "markdown",
      "source": [
        "We compile BART with some settings for running it on the GPU on Google Colab."
      ],
      "metadata": {
        "id": "TRmUblbXJ0Gy"
      }
    },
    {
      "cell_type": "code",
      "execution_count": 3,
      "metadata": {
        "id": "itZOCWs52N66"
      },
      "outputs": [],
      "source": [
        "%%bash\n",
        "\n",
        "BRANCH=master\n",
        "\n",
        "cd bart\n",
        "\n",
        "# Switch to desired branch of the BART project\n",
        "git checkout -q $BRANCH\n",
        "\n",
        "# Define specifications \n",
        "COMPILE_SPECS=\" PARALLEL=1\n",
        "                CUDA=1\n",
        "                CUDA_BASE=/usr/local/cuda\n",
        "                CUDA_LIB=lib64\n",
        "                OPENBLAS=1\n",
        "                BLAS_THREADSAFE=1\"\n",
        "\n",
        "printf \"%s\\n\" $COMPILE_SPECS > Makefiles/Makefile.local\n",
        "\n",
        "make &> /dev/null"
      ]
    },
    {
      "cell_type": "markdown",
      "source": [
        "We set the required environment variables for BART."
      ],
      "metadata": {
        "id": "4mb80KgrJ-R4"
      }
    },
    {
      "cell_type": "code",
      "execution_count": 4,
      "metadata": {
        "id": "QxYZ5xp_2N68"
      },
      "outputs": [],
      "source": [
        "import os\n",
        "import sys\n",
        "\n",
        "# Define environment variables for BART and OpenMP\n",
        "\n",
        "os.environ['TOOLBOX_PATH'] = \"/content/bart\"\n",
        "\n",
        "os.environ['OMP_NUM_THREADS']=\"4\"\n",
        "\n",
        "# Add the BARTs toolbox to the PATH variable\n",
        "\n",
        "os.environ['PATH'] = os.environ['TOOLBOX_PATH'] + \":\" + os.environ['PATH']\n",
        "sys.path.append(os.environ['TOOLBOX_PATH'] + \"/python\")"
      ]
    },
    {
      "cell_type": "markdown",
      "metadata": {
        "id": "bSvHAahc2N69"
      },
      "source": [
        "We check the installed BART version."
      ]
    },
    {
      "cell_type": "code",
      "execution_count": 5,
      "metadata": {
        "colab": {
          "base_uri": "https://localhost:8080/"
        },
        "id": "HIQs5a1S2N69",
        "outputId": "2ee36e5f-82b6-47d8-9d42-891212f0fbeb"
      },
      "outputs": [
        {
          "output_type": "stream",
          "name": "stdout",
          "text": [
            "# The BART used in this notebook:\n",
            "/content/bart/bart\n",
            "# BART version: \n",
            "v0.7.00-657-ge641e74\n"
          ]
        }
      ],
      "source": [
        "%%bash\n",
        "\n",
        "echo \"# The BART used in this notebook:\"\n",
        "which bart\n",
        "echo \"# BART version: \"\n",
        "bart version"
      ]
    },
    {
      "cell_type": "markdown",
      "metadata": {
        "id": "yofneb2U2N6_"
      },
      "source": [
        "<a name='main'></a>\n",
        "### Functions for Visualization\n",
        "\n",
        "We define a function for visualization of the results."
      ]
    },
    {
      "cell_type": "code",
      "execution_count": 6,
      "metadata": {
        "id": "HGKRhAhq2N7A"
      },
      "outputs": [],
      "source": [
        "import sys\n",
        "import os\n",
        "sys.path.insert(0, os.path.join(os.environ['TOOLBOX_PATH'], 'python'))\n",
        "import cfl\n",
        "\n",
        "import numpy as np\n",
        "import matplotlib.pyplot as plt\n",
        "from mpl_toolkits.axes_grid1 import make_axes_locatable\n",
        "    \n",
        "def diffplot(reco, ref, vmax=3, cmap='viridis', title=\"Nothing\"):\n",
        "    \n",
        "    DIFF_SCALING = 20\n",
        "    \n",
        "    reco = np.abs(cfl.readcfl(reco).squeeze())\n",
        "    ref = np.abs(cfl.readcfl(ref).squeeze())\n",
        "    \n",
        "    fig = plt.figure()\n",
        "    ax1 = fig.add_subplot(131)\n",
        "    \n",
        "    # Reference\n",
        "    \n",
        "    im = ax1.imshow(ref, cmap=cmap, vmin=0, vmax=vmax)\n",
        "    \n",
        "    ax1.set_yticklabels([])\n",
        "    ax1.set_xticklabels([])\n",
        "    ax1.xaxis.set_ticks_position('none')\n",
        "    ax1.yaxis.set_ticks_position('none')\n",
        "    \n",
        "    divider = make_axes_locatable(ax1)\n",
        "    cax = divider.append_axes(\"right\", size=\"5%\", pad=0.05)\n",
        "    cbar = plt.colorbar(im, cax=cax)\n",
        "    cbar.ax.tick_params(labelsize=15)\n",
        "    cax.set_visible(False)\n",
        "    \n",
        "    ax1.set_title('Reference')\n",
        "    \n",
        "    # Reconstruction\n",
        "    \n",
        "    ax2 = fig.add_subplot(132)\n",
        "\n",
        "    im2 = ax2.imshow(reco, cmap=cmap, vmin=0, vmax=vmax)\n",
        "    \n",
        "    ax2.set_yticklabels([])\n",
        "    ax2.set_xticklabels([])\n",
        "    ax2.xaxis.set_ticks_position('none')\n",
        "    ax2.yaxis.set_ticks_position('none')\n",
        "    \n",
        "    divider = make_axes_locatable(ax2)\n",
        "    cax = divider.append_axes(\"right\", size=\"5%\", pad=0.05)\n",
        "    cbar = plt.colorbar(im2, cax=cax)\n",
        "    cbar.set_label(title, fontsize=15)\n",
        "    cbar.ax.tick_params(labelsize=15)\n",
        "    cax.set_visible(False)\n",
        "    \n",
        "    ax2.set_title('Reconstruction')\n",
        "    \n",
        "    # Difference\n",
        "    \n",
        "    ax3 = fig.add_subplot(133)\n",
        "\n",
        "    im3 = ax3.imshow(np.abs(reco-ref)*DIFF_SCALING, cmap=cmap, vmin=0, vmax=vmax)\n",
        "    \n",
        "    ax3.set_yticklabels([])\n",
        "    ax3.set_xticklabels([])\n",
        "    ax3.xaxis.set_ticks_position('none')\n",
        "    ax3.yaxis.set_ticks_position('none')\n",
        "\n",
        "    divider = make_axes_locatable(ax3)\n",
        "    cax = divider.append_axes(\"right\", size=\"5%\", pad=0.05)\n",
        "    cbar = plt.colorbar(im3, cax=cax)\n",
        "    cbar.set_label(title, fontsize=15)\n",
        "    cbar.ax.tick_params(labelsize=15)\n",
        "    \n",
        "    ax3.set_title('Difference')\n",
        "    ax3.text(0.01*np.shape(reco)[0], 0.95*np.shape(reco)[0], 'x'+str(DIFF_SCALING), fontsize=20, color='white')\n"
      ]
    },
    {
      "cell_type": "markdown",
      "metadata": {
        "id": "XohWaTap2N7D"
      },
      "source": [
        "### Previous Tutorials\n",
        "\n",
        "This tutorial assumes basic knowledge about BART cmdline tools. Please check out the following tutorials:\n",
        "- Introduction to BART Cmdline tools: [Link to Tutorial](https://github.com/mrirecon/bart-workshop/tree/master/ismrm2019)\n",
        "- Simulation tool in BART: [Link to Tutorial](https://github.com/mrirecon/bart-workshop/tree/master/ismrm2022)\n"
      ]
    },
    {
      "cell_type": "markdown",
      "source": [
        "## IR bSSFP Reconstruction\n",
        "\n",
        "In the first example the Bloch model-based reconstruction is used to determine quantitative parameter maps from an IR bSSFP sequence."
      ],
      "metadata": {
        "id": "hpkprAXRocoG"
      }
    },
    {
      "cell_type": "markdown",
      "metadata": {
        "id": "tvLLFZyi2N7E"
      },
      "source": [
        "### Create Dataset\n",
        "\n",
        "The numerical dataset is created using BARTs `sim` and `phantom` tool.\n",
        "Here, for its simplicity a single tube is simulated in k-space using a golden-angle sampled single-shot IR bSSFP sequence.\n",
        "\n",
        "More complex geometries like the NIST phantom require a higher resolution to resolve the relatively smaller individual tubes. Thus, they are too computationally demanding for this simple tutorial."
      ]
    },
    {
      "cell_type": "code",
      "execution_count": 8,
      "metadata": {
        "id": "xg8Hi4N92N7E",
        "outputId": "ed293858-5c74-4f13-8736-fd30997b8f09",
        "colab": {
          "base_uri": "https://localhost:8080/"
        }
      },
      "outputs": [
        {
          "output_type": "stream",
          "name": "stdout",
          "text": [
            "0.035840\n"
          ]
        }
      ],
      "source": [
        "%%bash\n",
        "\n",
        "# Sequence Parameter\n",
        "TR=0.0045 #[s]\n",
        "TE=0.00225 #[s]\n",
        "TRF=0.001 #[s]\n",
        "REP=600\n",
        "FA=45 #[deg]\n",
        "BWTP=4\n",
        "\n",
        "# Tissue Parameter\n",
        "T1=0.8 # [s]\n",
        "T2=0.1 # [s]\n",
        "\n",
        "# Run simulation and save output to $DURATION variable defining the simulation time\n",
        "bart sim --ODE --seq IR-BSSFP,TR=$TR,TE=$TE,Nrep=$REP,pinv,ppl=$TE,Trf=$TRF,FA=$FA,BWTP=$BWTP -1 $T1:$T1:1 -2 $T2:$T2:1 simu\n",
        "\n",
        "# Create Golden-Angle based Trajectory with 2-fold oversampling\n",
        "SAMPLES=30\n",
        "SPOKES=1\n",
        "\n",
        "bart traj -x $((2*SAMPLES)) -y $SPOKES -o 2 -G -t $REP _traj\n",
        "\n",
        "## The moba tool requires the time dimension to be in (5)!\n",
        "bart transpose 5 10 _traj traj\n",
        "\n",
        "\n",
        "# Simulate Spatial Components\n",
        "\n",
        "## Create phantom based on trajectory\n",
        "bart phantom -c -k -t traj comp_geom_ksp\n",
        "\n",
        "# Combine simulated signal and spatial basis to create numerical dataset\n",
        "bart fmac -s $(bart bitmask 6) comp_geom_ksp simu phantom_ksp"
      ]
    },
    {
      "cell_type": "markdown",
      "metadata": {
        "id": "mi7vUtW92N7G"
      },
      "source": [
        "**Inversion Time**  \n",
        "\n",
        "The inversion time is historically used by the `moba` tool to pass the time information to the underlying analytical forward operators. The Bloch model-based tool, does not require this vector. The timing information is included in the description of the simulated sequence: in the repetition time, the echo time, the number of repetitions,...\n",
        "\n",
        "Still for compatibility to the previous versions the inversion time file TI still needs to be bassed. This will become optional in future releases of BART. For now, we create a dummy inversion time file."
      ]
    },
    {
      "cell_type": "code",
      "execution_count": 9,
      "metadata": {
        "id": "HfPUkVVN2N7G"
      },
      "outputs": [],
      "source": [
        "%%bash\n",
        "\n",
        "# Create dummy inversion time file\n",
        "\n",
        "REP=600\n",
        "bart index 5 ${REP} TI"
      ]
    },
    {
      "cell_type": "markdown",
      "metadata": {
        "id": "2r3mH7Lb2N7H"
      },
      "source": [
        "### Reconstruction\n",
        "\n",
        "For allow the `moba` tool to use the Bloch model operator `--bloch` is added.\n",
        "\n",
        "The information about the applied sequence is passed with the `--seq` interface.\n",
        "More details are requested with:"
      ]
    },
    {
      "cell_type": "code",
      "execution_count": 10,
      "metadata": {
        "colab": {
          "base_uri": "https://localhost:8080/"
        },
        "id": "s98psZ-52N7H",
        "outputId": "077379cb-d65c-4c96-8567-39f1531fb497"
      },
      "outputs": [
        {
          "output_type": "stream",
          "name": "stdout",
          "text": [
            "Usage of sub-option: --seq [BSSFP],[IR-BSSFP],[FLASH],[IR-FLASH],[TR=f],[TE=f],[Nspins=d],[Nrep=d],[pinv],[ipl=f],[isp=f],[ppl=f],[av-spokes=d],[Trf=f],[FA=f],[BWTP=f],[off=f],[sl-grad=f],[slice-thickness=f],[nom-slice-thickness=f]\n",
            "\n",
            "Sub-options: configure sequence parameters\n",
            "\n",
            "BSSFP                        bSSFP\n",
            "IR-BSSFP                     Inversion-Recovery bSSFP\n",
            "FLASH                        FLASH\n",
            "IR-FLASH                     Inversion-Recovery FLASH\n",
            "TR=float                     Repetition time [s]\n",
            "TE=float                     Echo time [s]\n",
            "Nspins=int                   Number of averaged spins\n",
            "Nrep=int                     Number of repetitions\n",
            "pinv                         Use perfect inversions\n",
            "ipl=float                    Inversion Pulse Length [s]\n",
            "isp=float                    Inversion Spoiler Gradient Length [s]\n",
            "ppl=float                    Preparation Pulse Length [s]\n",
            "av-spokes=                   Number of averaged consecutive spokes\n",
            "Trf=float                    Pulse Duration [s]\n",
            "FA=float                     Flipangle [deg]\n",
            "BWTP=float                   Bandwidth-Time-Product\n",
            "off=float                    Off-Resonance [rad/s]\n",
            "sl-grad=float                Strength of slice-selection gradient [T/m]\n",
            "slice-thickness=float        Thickness of simulated slice. [m]\n",
            "nom-slice-thickness=float    Nominal thickness of simulated slice. [m]\n",
            "h                            help\n"
          ]
        }
      ],
      "source": [
        "%%bash\n",
        "\n",
        "bart moba --seq h"
      ]
    },
    {
      "cell_type": "markdown",
      "metadata": {
        "id": "3Z_7G_Et2N7J"
      },
      "source": [
        "In this example, we pass the sequence type, the repetition and echo time and many more parameter:\n",
        "`ir-bssfp,tr=${TR},te=${TE},...`\n",
        "\n",
        "The simulation type can be controlled with the `moba --sim` interface:"
      ]
    },
    {
      "cell_type": "code",
      "execution_count": 11,
      "metadata": {
        "colab": {
          "base_uri": "https://localhost:8080/"
        },
        "id": "FYnPIV8_2N7J",
        "outputId": "dd7029e4-d32b-4265-fdb8-ff547c8ea0e2"
      },
      "outputs": [
        {
          "output_type": "stream",
          "name": "stdout",
          "text": [
            "Usage of sub-option: --sim [ODE],[STM]\n",
            "\n",
            "Sub-options: configure simulation parameters\n",
            "\n",
            "ODE    full ordinary differential equation solver based simulation\n",
            "STM    state-transition matrix based simulation (default)\n",
            "h      help\n"
          ]
        }
      ],
      "source": [
        "%%bash\n",
        "\n",
        "bart moba --sim h"
      ]
    },
    {
      "cell_type": "markdown",
      "metadata": {
        "id": "50FyP5OF2N7K"
      },
      "source": [
        "Currently, it supports an ordinary differential equation solver (ODE) and a state-transition matrix (STM) simulation of the Bloch equations.\n",
        "\n",
        "The flag `--img_dims $DIM:$DIM:1` defines the $k_{\\text{max}}$ of the actual k-space by taking the two-fold oversampling into account.\n",
        "\n",
        "The `moba --other` interface allows for passing further parameters like the partial derivative scalings, which define the preconditioning of the reconstructed parameter maps: [$R_1$, $M_0$, $R_2$, $B_1$]. With `--other pdscale=1:1:3:0` the optimization of the $B_1$ mapping is turned off (set to 0), the algorithm optimizes for $\\hat{R_2}=3\\cdot R_2$ and the other parameter maps are untouched.\n",
        "In praxis this preconditioning often need to be tuned for a smooth convergence of the optimization. The scaling depends on the sequence type and its individual parameters. Later we will show an additional example for an IR FLASH sequence.\n",
        "\n",
        "Besides tuning the preconditioning, we need to set the initialization values for the reconstruction `pinit=3:1:1:1`. Both are part of moba's `--other` interface. Please run `bart moba --other h` for more details. Further, the reconstruction needs some information about data and PSF scaling: `--scale_data=5000. --scale_psf=1000. --normalize_scaling`.\n",
        "\n",
        "The iteratively regularized Gauss-Newton method and FISTA are both controlled similar to previous model-based publications by Xiaoqing Wang:\n",
        "\n",
        "* Wang, X., Roeloffs, V., Klosowski, J., Tan, Z., Voit, D., Uecker, M. and Frahm, J. (2018), Model-based T1 mapping with sparsity constraints using single-shot inversion-recovery radial FLASH. Magn. Reson. Med, 79: 730-740. https://doi.org/10.1002/mrm.26726\n",
        "\n",
        "*  Wang, X, Rosenzweig, S, Scholand, N, Holme, HCM, Uecker, M. Model-based reconstruction for simultaneous multi-slice T1 mapping using single-shot inversion-recovery radial FLASH. Magn Reson Med. 2020; 85: 1258– 1271. https://doi.org/10.1002/mrm.28497\n",
        "\n",
        "* Wang, X, Tan, Z, Scholand, N, Roeloffs, V, Uecker, M. Physics-based reconstruction methods for magnetic resonance imaging. Phil Trans R Soc. 2021; A379: 20200196. https://doi.org/10.1098/rsta.2020.0196   .\n",
        "\n",
        "we will not go into detail here, but the passed parameters are: `-i$ITER -C$INNER_ITER -s$STEP_SIZE -B$MIN_R1 -o$OS -R$REDU_FAC -j$LAMBDA -N`.\n",
        "\n",
        "After discussing the interface, the next cell will execute the reconstruction. Depending on your system and the GPU this step can take about a minute.\n",
        "\n",
        "If you do not want to use a GPU, please remove the `-g` flag."
      ]
    },
    {
      "cell_type": "code",
      "execution_count": 12,
      "metadata": {
        "colab": {
          "base_uri": "https://localhost:8080/"
        },
        "id": "DH1sUBHs2N7L",
        "outputId": "450a9b75-0f4e-49b5-8ea1-d4029a546b51"
      },
      "outputs": [
        {
          "output_type": "stream",
          "name": "stdout",
          "text": [
            "nufft kernel dims: [  1 120   1   1   1 600   1   1   1   1   1   1   1   1   1   1   1 ]\n",
            "nufft psf dims:    [ 60  60   1   1   1 600   1   1   1   1   1   1   1   1   1   1   1 ]\n",
            "nufft traj dims:   [  3 120   1   1   1 600   1   1   1   1   1   1   1   1   1   1   1 ]\n",
            "Allocating 72000 (vs. 2232000) + 2160000\n",
            "ksp : [  1 120   1   1   1 600   1   1   1   1   1   1   1   1   1   1   1 ]\n",
            "cim : [ 60  60   1   1   1 600   1   1   1   1   1   1   1   1   1   1   1 ]\n",
            "traj: [  3 120   1   1   1 600   1   1   1   1   1   1   1   1   1   1   1 ]\n",
            "ksp : [  1 120   1   1   1 600   1   1   1   1   1   1   1   1   1   1 ]\n",
            "cim : [ 60  60   1   1   1 600   1   1   1   1   1   1   1   1   1   1 ]\n",
            "traj: [  3 120   1   1   1 600   1   1   1   1   1   1   1   1   1   1 ]\n",
            "Scaling: 1035.492188\n",
            "Scaling_psf: 4.658249\n",
            "FP Scale[0]=1.000000\n",
            "FP Scale[1]=1.000000\n",
            "FP Scale[2]=3.000000\n",
            "FP Scale[3]=0.000000\n",
            "[ 60  60   1   1   1   1   4   1   1   1   1   1   1   1   1   1 ]\n",
            "[ 60  60   1   1   1 600   1   1   1   1   1   1   1   1   1   1 ]\n",
            "[ 60  60   1   1   1 600   1   1   1   1   1   1   1   1   1   1 ]\n",
            "[ 60  60   1   1   1   1   1   1   1   1   1   1   1   1   1   1 ]\n",
            "[ 60  60   1   1   1 600   1   1   1   1   1   1   1   1   1   1 ]\n",
            "imgs_dims:\n",
            "\t[ 60  60   1   1   1   1   4   1   1   1   1   1   1   1   1   1 ]\n",
            "nr. of penalized maps: 3\n",
            "Started Forward Calculation\n",
            "Time = 1.91 s\n",
            "Step: 0, Res: 5000.000200\n",
            "\t\tFISTA iterations: 3\n",
            "Started Forward Calculation\n",
            "Time = 2.04 s\n",
            "Step: 1, Res: 2381.415965\n",
            "\t\tFISTA iterations: 20\n",
            "Started Forward Calculation\n",
            "Time = 2.02 s\n",
            "Step: 2, Res: 3014.519033\n",
            "\t\tFISTA iterations: 40\n",
            "Started Forward Calculation\n",
            "Time = 1.99 s\n",
            "Step: 3, Res: 1668.714925\n",
            "\t\tFISTA iterations: 40\n",
            "Started Forward Calculation\n",
            "Time = 1.97 s\n",
            "Step: 4, Res: 1270.052164\n",
            "\t\tFISTA iterations: 39\n",
            "Started Forward Calculation\n",
            "Time = 1.94 s\n",
            "Step: 5, Res: 1274.711536\n",
            "\t\tFISTA iterations: 78\n",
            "Started Forward Calculation\n",
            "Time = 1.96 s\n",
            "Step: 6, Res: 1274.657405\n",
            "\t\tFISTA iterations: 108\n",
            "Started Forward Calculation\n",
            "Time = 1.95 s\n",
            "Step: 7, Res: 1274.400692\n",
            "\t\tFISTA iterations: 146\n",
            "Total Time: 26.34 s\n"
          ]
        }
      ],
      "source": [
        "%%bash\n",
        "\n",
        "OS=1\n",
        "REDU_FAC=3\n",
        "INNER_ITER=250\n",
        "STEP_SIZE=0.95\n",
        "MIN_R1=0.001\n",
        "ITER=8\n",
        "LAMBDA=0.0005\n",
        "\n",
        "DIM=30\n",
        "TR=0.0045 #[s]\n",
        "TE=0.00225 #[s]\n",
        "TRF=0.001 #[s]\n",
        "REP=600\n",
        "FA=45 #[deg]\n",
        "BWTP=4\n",
        "\n",
        "bart moba --bloch --sim STM --img_dims $DIM:$DIM:1 \\\n",
        "        --seq IR-BSSFP,TR=${TR},TE=${TE},ppl=${TE},FA=${FA},Trf=${TRF},BWTP=${BWTP},pinv \\\n",
        "        --other pinit=3:1:1:1,pscale=1:1:3:0 --scale_data=5000. --scale_psf=1000. --normalize_scaling \\\n",
        "        -g \\\n",
        "        -i$ITER -C$INNER_ITER -s$STEP_SIZE -B$MIN_R1 -d 4 -o$OS -R$REDU_FAC -j$LAMBDA -N \\\n",
        "        -t traj phantom_ksp TI reco sens"
      ]
    },
    {
      "cell_type": "markdown",
      "metadata": {
        "id": "qaWh_vYk2N7M"
      },
      "source": [
        "The chosen debug level of `-d 4` leads to the output above. It is highly recommended for direct feedback from the reconstruction."
      ]
    },
    {
      "cell_type": "markdown",
      "metadata": {
        "id": "G6sw6nrM2N7M"
      },
      "source": [
        "### Post-Processing\n",
        "\n",
        "The output of the Bloch model-based reconstruction has the dimensions"
      ]
    },
    {
      "cell_type": "code",
      "execution_count": 13,
      "metadata": {
        "colab": {
          "base_uri": "https://localhost:8080/"
        },
        "id": "mDvjMyq42N7N",
        "outputId": "79e4d7ab-f184-423c-d4a1-a8481140f603"
      },
      "outputs": [
        {
          "output_type": "stream",
          "name": "stdout",
          "text": [
            "# Dimensions\n",
            "60 60 1 1 1 1 4 1 1 1 1 1 1 1 1 1 \n",
            "# Command\n",
            "moba --bloch --sim STM --img_dims 30:30:1 --seq IR-BSSFP,TR=0.0045,TE=0.00225,ppl=0.00225,FA=45,Trf=0.001,BWTP=4,pinv --other pinit=3:1:1:1,pscale=1:1:3:0 --scale_data=5000. --scale_psf=1000. --normalize_scaling -g -i8 -C250 -s0.95 -B0.001 -d 4 -o1 -R3 -j0.0005 -N -t traj phantom_ksp TI reco sens \n",
            "# Files\n",
            " >sens >reco <TI <phantom_ksp <traj\n",
            "# Creator\n",
            "BART v0.7.00-657-ge641e74\n"
          ]
        }
      ],
      "source": [
        "%%bash\n",
        "\n",
        "cat reco.hdr"
      ]
    },
    {
      "cell_type": "markdown",
      "metadata": {
        "id": "KYcsmtaI2N7O"
      },
      "source": [
        "60 x 60 samples for each of the 4 parameter maps.\n",
        "\n",
        "Currently, the two-fold oversampling is not automatically compensated. Thus, we resize the data with `bart resize -c 0 $DIM 1 $DIM ...`.\n",
        "\n",
        "The 6th dimension includes the parameter maps $R_1$, $M_0$, $R_2$ and $B_1$. We slice them `bart slice 6 ...` and invert the relaxation maps `bart spow -- -1 ...` to get the actual parameter maps $T_1$, $T_2$ and $B_1$. Multiplying the maps with a mask `bart fmac ...` can improve the visualization."
      ]
    },
    {
      "cell_type": "code",
      "execution_count": 14,
      "metadata": {
        "id": "cew_vvrW2N7O"
      },
      "outputs": [],
      "source": [
        "%%bash\n",
        "\n",
        "# Post-Process Reconstruction\n",
        "\n",
        "DIM=30\n",
        "T1=0.8 #[s]\n",
        "T2=0.1 #[s]\n",
        "\n",
        "# Create Reference Maps\n",
        "\n",
        "bart phantom -c -x $DIM circ\n",
        "\n",
        "bart scale -- $T1 circ t1ref\n",
        "bart scale -- $T2 circ t2ref\n",
        "bart copy circ faref\n",
        "\n",
        "\n",
        "# Resize output of Reconstruction\n",
        "# -> compensate for 2-fold oversampling\n",
        "bart resize -c 0 $DIM 1 $DIM reco reco_crop\n",
        "\n",
        "\n",
        "# Convert and Mask Reconstructed Maps\n",
        "\n",
        "bart slice 6 0 reco_crop r1map\n",
        "bart spow -- -1 r1map _t1map\n",
        "bart fmac _t1map circ t1map #mask\n",
        "rm _t1map.cfl _t1map.hdr\n",
        "\n",
        "bart slice 6 2 reco_crop r2map\n",
        "bart spow -- -1 r2map _t2map\n",
        "bart fmac _t2map circ t2map #mask\n",
        "rm _t2map.cfl _t2map.hdr\n",
        "\n",
        "bart slice 6 3 reco_crop _famap\n",
        "bart fmac _famap circ famap #mask\n",
        "rm _famap.cfl _famap.hdr"
      ]
    },
    {
      "cell_type": "markdown",
      "metadata": {
        "id": "a7EX8E5A2N7P"
      },
      "source": [
        "Finally, the maps can be visualized."
      ]
    },
    {
      "cell_type": "code",
      "execution_count": 15,
      "metadata": {
        "colab": {
          "base_uri": "https://localhost:8080/",
          "height": 404
        },
        "id": "a9N_K7932N7P",
        "outputId": "e122774e-0a3d-4f00-bc56-e8dade06d047"
      },
      "outputs": [
        {
          "output_type": "display_data",
          "data": {
            "text/plain": [
              "<Figure size 432x288 with 6 Axes>"
            ],
            "image/png": "[encoded data removed]"
          },
          "metadata": {
            "needs_background": "light"
          }
        },
        {
          "output_type": "display_data",
          "data": {
            "text/plain": [
              "<Figure size 432x288 with 6 Axes>"
            ],
            "image/png": "[encoded data removed]"
          },
          "metadata": {
            "needs_background": "light"
          }
        },
        {
          "output_type": "display_data",
          "data": {
            "text/plain": [
              "<Figure size 432x288 with 6 Axes>"
            ],
            "image/png": "[encoded data removed]"
          },
          "metadata": {
            "needs_background": "light"
          }
        }
      ],
      "source": [
        "diffplot('t1map', 't1ref', 2, 'viridis', 'T$_1$ / s')\n",
        "diffplot('t2map', 't2ref', 0.2, 'copper', 'T$_2$ / s')\n",
        "diffplot('famap', 'faref', 1.1, 'hot', 'FA/FA$_{nom}$')"
      ]
    },
    {
      "cell_type": "markdown",
      "metadata": {
        "id": "7bvVsrrl2N7Q"
      },
      "source": [
        "The difference in the relative flip angle map is zero, because the flipangle optimization was turned off by setting the preconditioning scaling to 0: `pscale=1:1:3:0`.\n",
        "\n",
        "We can observe some small checkboard artifacts and differences close to the edges of the maps, but the overall error for the reconstructed $T_1$ and $T_2$ maps is small."
      ]
    },
    {
      "cell_type": "markdown",
      "source": [
        "## IR FLASH Reconstruction\n",
        "\n",
        "Here, we present the reconstruction of IR FLASH data with the Bloch model-based reconstruction tool."
      ],
      "metadata": {
        "id": "9Qd8CsYloyZl"
      }
    },
    {
      "cell_type": "markdown",
      "source": [
        "### Create Dataset\n",
        "\n",
        "The simulated data is created in the same way as presented in the example with an IR bSSFP sequence. Only some sequence parameters like TR, TE and the flipangle have been modified."
      ],
      "metadata": {
        "id": "jbu73cVHsGLf"
      }
    },
    {
      "cell_type": "code",
      "execution_count": 16,
      "metadata": {
        "outputId": "b446c98b-7a1b-4502-b5e8-0fa1f8d980b8",
        "colab": {
          "base_uri": "https://localhost:8080/"
        },
        "id": "UefoXLLrovyy"
      },
      "outputs": [
        {
          "output_type": "stream",
          "name": "stdout",
          "text": [
            "0.021840\n"
          ]
        }
      ],
      "source": [
        "%%bash\n",
        "\n",
        "# Sequence Parameter\n",
        "TR=0.003 #[s]\n",
        "TE=0.0017 #[s]\n",
        "TRF=0.001 #[s]\n",
        "REP=600\n",
        "FA=8 #[deg]\n",
        "BWTP=4\n",
        "\n",
        "# Tissue Parameter\n",
        "T1=0.8 # [s]\n",
        "T2=0.1 # [s]\n",
        "\n",
        "# Run simulation and save output to $DURATION variable defining the simulation time\n",
        "bart sim --ODE --seq IR-FLASH,TR=$TR,TE=$TE,Nrep=$REP,pinv,ppl=$TE,Trf=$TRF,FA=$FA,BWTP=$BWTP -1 $T1:$T1:1 -2 $T2:$T2:1 simu\n",
        "\n",
        "# Create Golden-Angle based Trajectory with 2-fold oversampling\n",
        "SAMPLES=30\n",
        "SPOKES=1\n",
        "\n",
        "bart traj -x $((2*SAMPLES)) -y $SPOKES -G -t $REP _traj\n",
        "\n",
        "## The moba tool requires the time dimension to be in (5)!\n",
        "bart transpose 5 10 _traj traj\n",
        "\n",
        "\n",
        "# Simulate Spatial Components\n",
        "\n",
        "## Create phantom based on trajectory\n",
        "bart phantom -c -k -t traj comp_geom_ksp\n",
        "\n",
        "# Combine simulated signal and spatial basis to create numerical dataset\n",
        "bart fmac -s $(bart bitmask 6) comp_geom_ksp simu phantom_ksp"
      ]
    },
    {
      "cell_type": "markdown",
      "source": [
        "### Reconstruction\n",
        "\n",
        "The reconstruction works similar as in the IR bSSFP case. Only the modified sequence parameters and the partial scaling need to be adjusted.\n",
        "\n",
        "In the IR bSSFP reconstruction we used a scaling of `pscale=1:1:3:0`, which turned off the flipangle optimization and preconditioned to optimize for $\\hat{R_2}=3\\cdot R_2$ instead of $R_2$. An IR FLASH sequence is sensitive to $T_1$, $M_0$ and the flipangle. Therefore, the scaling is set to `pscale=1:1:0:1`. It constraints $R_2$ to be fixed and optimized for the flipangle. To observe an effect of the flipangle optimization the reconstruction assumes a nominal flipangle of 6 degree, which differs from the simulation. Thus, we expect a resulting relative flipangle map of $8/6=1.\\bar{33}$."
      ],
      "metadata": {
        "id": "_BgANAdYsK4J"
      }
    },
    {
      "cell_type": "code",
      "execution_count": 17,
      "metadata": {
        "colab": {
          "base_uri": "https://localhost:8080/"
        },
        "outputId": "a599afc0-e28a-47eb-ed33-8fe9e15e1a7c",
        "id": "gtYgPACYo_8m"
      },
      "outputs": [
        {
          "output_type": "stream",
          "name": "stdout",
          "text": [
            "nufft kernel dims: [  1  60   1   1   1 600   1   1   1   1   1   1   1   1   1   1   1 ]\n",
            "nufft psf dims:    [ 60  60   1   1   1 600   1   1   1   1   1   1   1   1   1   1   1 ]\n",
            "nufft traj dims:   [  3  60   1   1   1 600   1   1   1   1   1   1   1   1   1   1   1 ]\n",
            "Allocating 36000 (vs. 2196000) + 2160000\n",
            "ksp : [  1  60   1   1   1 600   1   1   1   1   1   1   1   1   1   1   1 ]\n",
            "cim : [ 60  60   1   1   1 600   1   1   1   1   1   1   1   1   1   1   1 ]\n",
            "traj: [  3  60   1   1   1 600   1   1   1   1   1   1   1   1   1   1   1 ]\n",
            "ksp : [  1  60   1   1   1 600   1   1   1   1   1   1   1   1   1   1 ]\n",
            "cim : [ 60  60   1   1   1 600   1   1   1   1   1   1   1   1   1   1 ]\n",
            "traj: [  3  60   1   1   1 600   1   1   1   1   1   1   1   1   1   1 ]\n",
            "Scaling: 5911.774902\n",
            "Scaling_psf: 7.019104\n",
            "FP Scale[0]=1.000000\n",
            "FP Scale[1]=1.000000\n",
            "FP Scale[2]=0.000000\n",
            "FP Scale[3]=1.000000\n",
            "[ 60  60   1   1   1   1   4   1   1   1   1   1   1   1   1   1 ]\n",
            "[ 60  60   1   1   1 600   1   1   1   1   1   1   1   1   1   1 ]\n",
            "[ 60  60   1   1   1 600   1   1   1   1   1   1   1   1   1   1 ]\n",
            "[ 60  60   1   1   1   1   1   1   1   1   1   1   1   1   1   1 ]\n",
            "[ 60  60   1   1   1 600   1   1   1   1   1   1   1   1   1   1 ]\n",
            "imgs_dims:\n",
            "\t[ 60  60   1   1   1   1   4   1   1   1   1   1   1   1   1   1 ]\n",
            "nr. of penalized maps: 2\n",
            "Started Forward Calculation\n",
            "Time = 1.23 s\n",
            "Step: 0, Res: 4999.999800\n",
            "\t\tFISTA iterations: 3\n",
            "Started Forward Calculation\n",
            "Time = 1.24 s\n",
            "Step: 1, Res: 3531.087368\n",
            "\t\tFISTA iterations: 20\n",
            "Started Forward Calculation\n",
            "Time = 1.19 s\n",
            "Step: 2, Res: 4218.931618\n",
            "\t\tFISTA iterations: 24\n",
            "Started Forward Calculation\n",
            "Time = 1.21 s\n",
            "Step: 3, Res: 2148.598962\n",
            "\t\tFISTA iterations: 12\n",
            "Started Forward Calculation\n",
            "Time = 1.19 s\n",
            "Step: 4, Res: 2112.383015\n",
            "\t\tFISTA iterations: 24\n",
            "Started Forward Calculation\n",
            "Time = 1.18 s\n",
            "Step: 5, Res: 2112.895880\n",
            "\t\tFISTA iterations: 46\n",
            "Started Forward Calculation\n",
            "Time = 1.18 s\n",
            "Step: 6, Res: 2114.075921\n",
            "\t\tFISTA iterations: 92\n",
            "Started Forward Calculation\n",
            "Time = 1.19 s\n",
            "Step: 7, Res: 2115.033333\n",
            "\t\tFISTA iterations: 133\n",
            "Total Time: 15.97 s\n"
          ]
        }
      ],
      "source": [
        "%%bash\n",
        "\n",
        "OS=1\n",
        "REDU_FAC=3\n",
        "INNER_ITER=250\n",
        "STEP_SIZE=0.95\n",
        "MIN_R1=0.001\n",
        "ITER=8\n",
        "LAMBDA=0.0005\n",
        "\n",
        "DIM=30\n",
        "TR=0.003 #[s]\n",
        "TE=0.0017 #[s]\n",
        "TRF=0.001 #[s]\n",
        "REP=600\n",
        "FA=6 #[deg] ! Note: not the same as in the simulation !\n",
        "BWTP=4\n",
        "\n",
        "bart moba --bloch --sim STM --img_dims $DIM:$DIM:1 \\\n",
        "        --seq IR-FLASH,TR=${TR},TE=${TE},ppl=${TE},FA=${FA},Trf=${TRF},BWTP=${BWTP},pinv \\\n",
        "        --other pinit=3:1:1:1,pscale=1:1:0:1 --scale_data=5000. --scale_psf=1000. --normalize_scaling \\\n",
        "        -g \\\n",
        "        -i$ITER -C$INNER_ITER -s$STEP_SIZE -B$MIN_R1 -d 4 -o$OS -R$REDU_FAC -j$LAMBDA -N \\\n",
        "        -t traj phantom_ksp TI reco sens"
      ]
    },
    {
      "cell_type": "markdown",
      "source": [
        "### Post-Processing\n",
        "\n",
        "The post-processing is the same as in the IR bSSFP example. Only the reference values have been adjusted."
      ],
      "metadata": {
        "id": "SOE3KXUBsOFe"
      }
    },
    {
      "cell_type": "code",
      "execution_count": 18,
      "metadata": {
        "id": "C6ce24MYpMR5"
      },
      "outputs": [],
      "source": [
        "%%bash\n",
        "\n",
        "# Post-Process Reconstruction\n",
        "\n",
        "DIM=30\n",
        "T1=0.8        # [s]\n",
        "T2=1          # [s], initialization value! We constraint T2 to stay constant! -> pscale=1:1:0:1\n",
        "FA_EFF=1.3333 # [s], Simulated FA (8 deg) / Reconstructed FA (6 deg)\n",
        "\n",
        "\n",
        "# Create Reference Maps\n",
        "\n",
        "bart phantom -c -x $DIM circ\n",
        "\n",
        "bart scale -- $T1 circ t1ref\n",
        "bart scale -- $T2 circ t2ref\n",
        "bart scale -- $FA_EFF circ faref\n",
        "\n",
        "\n",
        "# Resize output of Reconstruction\n",
        "# -> compensate for 2-fold oversampling\n",
        "bart resize -c 0 $DIM 1 $DIM reco reco_crop\n",
        "\n",
        "\n",
        "# Convert and Mask Reconstructed Maps\n",
        "\n",
        "bart slice 6 0 reco_crop r1map\n",
        "bart spow -- -1 r1map _t1map\n",
        "bart fmac _t1map circ t1map #mask\n",
        "rm _t1map.cfl _t1map.hdr\n",
        "\n",
        "bart slice 6 2 reco_crop r2map\n",
        "bart spow -- -1 r2map _t2map\n",
        "bart fmac _t2map circ t2map #mask\n",
        "rm _t2map.cfl _t2map.hdr\n",
        "\n",
        "bart slice 6 3 reco_crop _famap\n",
        "bart fmac _famap circ famap #mask\n",
        "rm _famap.cfl _famap.hdr"
      ]
    },
    {
      "cell_type": "code",
      "execution_count": 19,
      "metadata": {
        "colab": {
          "base_uri": "https://localhost:8080/",
          "height": 404
        },
        "outputId": "708fd603-f9f4-44b6-efc5-3011523dbdb7",
        "id": "tpeYIeIvpVpS"
      },
      "outputs": [
        {
          "output_type": "display_data",
          "data": {
            "text/plain": [
              "<Figure size 432x288 with 6 Axes>"
            ],
            "image/png": "[encoded data removed]"
          },
          "metadata": {
            "needs_background": "light"
          }
        },
        {
          "output_type": "display_data",
          "data": {
            "text/plain": [
              "<Figure size 432x288 with 6 Axes>"
            ],
            "image/png": "[encoded data removed]"
          },
          "metadata": {
            "needs_background": "light"
          }
        },
        {
          "output_type": "display_data",
          "data": {
            "text/plain": [
              "<Figure size 432x288 with 6 Axes>"
            ],
            "image/png": "[encoded data removed]"
          },
          "metadata": {
            "needs_background": "light"
          }
        }
      ],
      "source": [
        "diffplot('t1map', 't1ref', 2, 'viridis', 'T$_1$ / s')\n",
        "diffplot('t2map', 't2ref', 0.2, 'copper', 'T$_2$ / s')\n",
        "diffplot('famap', 'faref', 1.5, 'hot', 'FA/FA$_{nom}$')"
      ]
    },
    {
      "cell_type": "markdown",
      "source": [
        "The $T_1$ map only shows small errors to the reference.\n",
        "\n",
        "The constrainting of the $T_2$ map by passing `pscale=1:1:0:1` to the `moba` call is visualized in the final $T_2$ map, because it has the same value it has been initialized with.\n",
        "\n",
        "The reconstruction assumed a nominal flipangle of 6 degree, while the simulation was based on an 8 degree pulse. Thus, the reconstructed relative FA map is about 1.33 compensating the model difference."
      ],
      "metadata": {
        "id": "rjiXOqt-sSBP"
      }
    },
    {
      "cell_type": "code",
      "execution_count": null,
      "metadata": {
        "id": "bl5ItRth2N7Q"
      },
      "outputs": [],
      "source": [
        "%%bash\n",
        "rm *.{hdr,cfl}"
      ]
    },
    {
      "cell_type": "code",
      "execution_count": null,
      "metadata": {
        "id": "45zeFlj52N7R"
      },
      "outputs": [],
      "source": []
    }
  ],
  "metadata": {
    "jupytext": {
      "formats": "ipynb,md"
    },
    "kernelspec": {
      "display_name": "Python 3 (ipykernel)",
      "language": "python",
      "name": "python3"
    },
    "language_info": {
      "codemirror_mode": {
        "name": "ipython",
        "version": 3
      },
      "file_extension": ".py",
      "mimetype": "text/x-python",
      "name": "python",
      "nbconvert_exporter": "python",
      "pygments_lexer": "ipython3",
      "version": "3.10.4"
    },
    "colab": {
      "provenance": [],
      "toc_visible": true
    },
    "accelerator": "GPU",
    "gpuClass": "standard"
  },
  "nbformat": 4,
  "nbformat_minor": 0
}